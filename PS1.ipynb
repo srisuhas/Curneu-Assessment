{
 "cells": [
  {
   "cell_type": "code",
   "execution_count": 1,
   "metadata": {},
   "outputs": [],
   "source": [
    "import pandas as pd\n",
    "import numpy as np\n",
    "import matplotlib.pyplot as plt\n",
    "import seaborn as sns \n",
    "from sklearn.impute import SimpleImputer\n",
    "from scipy import stats"
   ]
  },
  {
   "cell_type": "code",
   "execution_count": 2,
   "metadata": {},
   "outputs": [],
   "source": [
    "df1 = pd.read_csv(\"country-wise-average.csv\")\n",
    "df2 = pd.read_csv(\"malnutrition-estimates.csv\")"
   ]
  },
  {
   "cell_type": "code",
   "execution_count": 3,
   "metadata": {},
   "outputs": [
    {
     "name": "stdout",
     "output_type": "stream",
     "text": [
      "First 5 lines of data \n",
      "\n",
      "\n",
      "       Country  Income Classification  Severe Wasting    Wasting  Overweight  \\\n",
      "0  AFGHANISTAN                    0.0        3.033333  10.350000    5.125000   \n",
      "1      ALBANIA                    2.0        4.075000   7.760000   20.800000   \n",
      "2      ALGERIA                    2.0        2.733333   5.942857   12.833333   \n",
      "3       ANGOLA                    1.0        2.400000   6.933333    2.550000   \n",
      "4    ARGENTINA                    2.0        0.200000   2.150000   11.125000   \n",
      "\n",
      "    Stunting  Underweight  U5 Population ('000s)  \n",
      "0  47.775000    30.375000            4918.561500  \n",
      "1  24.160000     7.700000             232.859800  \n",
      "2  19.571429     7.342857            3565.213143  \n",
      "3  42.633333    23.600000            3980.054000  \n",
      "4  10.025000     2.600000            3613.651750  \n",
      "\n",
      "\n",
      "   Unnamed: 0 ISO code      Country Survey Year  Year  Income Classification  \\\n",
      "0           0      AFG  AFGHANISTAN        1997  1997                      0   \n",
      "1           1      AFG  AFGHANISTAN        2004  2004                      0   \n",
      "2           2      AFG  AFGHANISTAN        2013  2013                      0   \n",
      "3           3      AFG  AFGHANISTAN        2018  2018                      0   \n",
      "4           4      ALB      ALBANIA     1996-98  1997                      2   \n",
      "\n",
      "   LDC  LIFD  LLDC or SID2 Survey Sample (N)  Severe Wasting  Wasting  \\\n",
      "0  1.0   1.0           1.0             4,846             NaN     18.2   \n",
      "1  1.0   1.0           1.0               946             3.5      8.6   \n",
      "2  1.0   1.0           1.0         44,26,469             4.0      9.5   \n",
      "3  1.0   1.0           1.0               NaN             1.6      5.1   \n",
      "4  0.0   0.0           0.0             7,642             NaN      8.1   \n",
      "\n",
      "   Overweight  Stunting  Underweight                Notes  \\\n",
      "0         6.5      53.2         44.9  Converted estimates   \n",
      "1         4.6      59.3         32.9                  NaN   \n",
      "2         5.3      40.4         24.6                  NaN   \n",
      "3         4.1      38.2         19.1                  NaN   \n",
      "4         9.5      20.4          7.1  Converted estimates   \n",
      "\n",
      "                                       Report Author  \\\n",
      "0                                 CIET International   \n",
      "1  Ministry of Public Health (Afghanistan), UNICE...   \n",
      "2  Ministry of Public Health, UNICEF and the Aga ...   \n",
      "3                       KIT Royal Tropical Institute   \n",
      "4  Institute of Public Health, Food and Nutrition...   \n",
      "\n",
      "                                              Source Short Source  \\\n",
      "0  Afghanistan 1997 multiple indicator baseline (...         MICS   \n",
      "1  Summary report of the national nutrition surve...          NNS   \n",
      "2        Afghanistan National Nutrition Survey 2013.        SMART   \n",
      "3                     Afghanistan Health Survey 2018        Other   \n",
      "4  National study on nutrition in Albania. Instit...        Other   \n",
      "\n",
      "   U5 Population ('000s)  \n",
      "0               3838.877  \n",
      "1               4789.353  \n",
      "2               5444.573  \n",
      "3               5601.443  \n",
      "4                309.225  \n"
     ]
    }
   ],
   "source": [
    "print(\"First 5 lines of data \\n\\n\")\n",
    "print(df1.head())\n",
    "print(\"\\n\")\n",
    "print(df2.head())"
   ]
  },
  {
   "cell_type": "code",
   "execution_count": 4,
   "metadata": {},
   "outputs": [
    {
     "name": "stdout",
     "output_type": "stream",
     "text": [
      "\n",
      "\n",
      "\n",
      "Datatype\n",
      "\n",
      "Country                   object\n",
      "Income Classification    float64\n",
      "Severe Wasting           float64\n",
      "Wasting                  float64\n",
      "Overweight               float64\n",
      "Stunting                 float64\n",
      "Underweight              float64\n",
      "U5 Population ('000s)    float64\n",
      "dtype: object\n",
      "\n",
      "\n",
      "Unnamed: 0                 int64\n",
      "ISO code                  object\n",
      "Country                   object\n",
      "Survey Year               object\n",
      "Year                       int64\n",
      "Income Classification      int64\n",
      "LDC                      float64\n",
      "LIFD                     float64\n",
      "LLDC or SID2             float64\n",
      "Survey Sample (N)         object\n",
      "Severe Wasting           float64\n",
      "Wasting                  float64\n",
      "Overweight               float64\n",
      "Stunting                 float64\n",
      "Underweight              float64\n",
      "Notes                     object\n",
      "Report Author             object\n",
      "Source                    object\n",
      "Short Source              object\n",
      "U5 Population ('000s)    float64\n",
      "dtype: object\n"
     ]
    }
   ],
   "source": [
    "# Print data type\n",
    "print(\"\\n\\n\\nDatatype\\n\")\n",
    "print(df1.dtypes)\n",
    "print(\"\\n\")\n",
    "print(df2.dtypes)"
   ]
  },
  {
   "cell_type": "code",
   "execution_count": 5,
   "metadata": {},
   "outputs": [
    {
     "name": "stdout",
     "output_type": "stream",
     "text": [
      "\n",
      "\n",
      "\n",
      "Number of null values\n",
      "\n",
      "Country                   0\n",
      "Income Classification     0\n",
      "Severe Wasting           12\n",
      "Wasting                   2\n",
      "Overweight                3\n",
      "Stunting                  1\n",
      "Underweight               2\n",
      "U5 Population ('000s)     0\n",
      "dtype: int64\n",
      "\n",
      "\n",
      "Unnamed: 0                 0\n",
      "ISO code                   0\n",
      "Country                    0\n",
      "Survey Year                0\n",
      "Year                       0\n",
      "Income Classification      0\n",
      "LDC                        0\n",
      "LIFD                       0\n",
      "LLDC or SID2               0\n",
      "Survey Sample (N)         63\n",
      "Severe Wasting           228\n",
      "Wasting                   47\n",
      "Overweight               136\n",
      "Stunting                  37\n",
      "Underweight               22\n",
      "Notes                    597\n",
      "Report Author              0\n",
      "Source                     0\n",
      "Short Source               0\n",
      "U5 Population ('000s)      0\n",
      "dtype: int64\n"
     ]
    }
   ],
   "source": [
    "# Print number of null values \n",
    "print(\"\\n\\n\\nNumber of null values\\n\")\n",
    "print(df1.isnull().sum())\n",
    "print(\"\\n\")\n",
    "print(df2.isnull().sum())"
   ]
  },
  {
   "cell_type": "code",
   "execution_count": 6,
   "metadata": {},
   "outputs": [
    {
     "name": "stdout",
     "output_type": "stream",
     "text": [
      "\n",
      "\n",
      "\n",
      "Data summary\n",
      "\n",
      "       Income Classification  Severe Wasting     Wasting  Overweight  \\\n",
      "count             152.000000      140.000000  150.000000  149.000000   \n",
      "mean                1.427632        2.168650    6.599257    7.201638   \n",
      "std                 0.967019        1.708939    4.481723    4.649144   \n",
      "min                 0.000000        0.000000    0.000000    0.962500   \n",
      "25%                 1.000000        0.900000    3.262500    3.850000   \n",
      "50%                 1.000000        1.872500    5.710714    6.300000   \n",
      "75%                 2.000000        2.822727    8.740476    9.080000   \n",
      "max                 3.000000       11.400000   23.650000   26.500000   \n",
      "\n",
      "         Stunting  Underweight  U5 Population ('000s)  \n",
      "count  151.000000   150.000000             152.000000  \n",
      "mean    25.814728    13.503047            4042.927052  \n",
      "std     14.686807    10.895839           13164.191927  \n",
      "min      1.000000     0.100000               1.000000  \n",
      "25%     13.485000     4.305000             241.765813  \n",
      "50%     24.160000    10.380000             981.233486  \n",
      "75%     36.564935    19.496875            3002.433080  \n",
      "max     57.600000    46.266667          123014.491000  \n",
      "\n",
      "\n",
      "       Unnamed: 0         Year  Income Classification         LDC        LIFD  \\\n",
      "count  924.000000   924.000000              924.00000  924.000000  924.000000   \n",
      "mean   461.500000  2003.730519                1.24026    0.349567    0.424242   \n",
      "std    266.880123     8.792535                0.92202    0.477091    0.494495   \n",
      "min      0.000000  1983.000000                0.00000    0.000000    0.000000   \n",
      "25%    230.750000  1996.000000                1.00000    0.000000    0.000000   \n",
      "50%    461.500000  2004.500000                1.00000    0.000000    0.000000   \n",
      "75%    692.250000  2011.000000                2.00000    1.000000    1.000000   \n",
      "max    923.000000  2019.000000                3.00000    1.000000    1.000000   \n",
      "\n",
      "       LLDC or SID2  Severe Wasting     Wasting  Overweight    Stunting  \\\n",
      "count    924.000000      696.000000  877.000000  788.000000  887.000000   \n",
      "mean       0.455628        2.191523    6.955644    6.434772   29.063134   \n",
      "std        0.686648        1.912586    5.039402    4.638849   15.834657   \n",
      "min        0.000000        0.000000    0.000000    0.000000    0.000000   \n",
      "25%        0.000000        0.800000    2.900000    2.900000   16.650000   \n",
      "50%        0.000000        1.600000    5.900000    5.500000   29.200000   \n",
      "75%        1.000000        2.900000    9.700000    8.700000   40.200000   \n",
      "max        2.000000       12.900000   25.300000   30.100000   73.600000   \n",
      "\n",
      "       Underweight  U5 Population ('000s)  \n",
      "count   902.000000             924.000000  \n",
      "mean     15.841242            6182.704516  \n",
      "std      12.509643           16795.938144  \n",
      "min       0.000000               1.000000  \n",
      "25%       4.925000             559.669000  \n",
      "50%      13.400000            1795.523000  \n",
      "75%      23.100000            4194.214000  \n",
      "max      66.800000          132966.782000  \n"
     ]
    }
   ],
   "source": [
    "# Print data summary\n",
    "print(\"\\n\\n\\nData summary\\n\")\n",
    "print(df1.describe())\n",
    "print(\"\\n\")\n",
    "print(df2.describe())"
   ]
  },
  {
   "cell_type": "code",
   "execution_count": 7,
   "metadata": {},
   "outputs": [
    {
     "name": "stdout",
     "output_type": "stream",
     "text": [
      "\n",
      "\n",
      "\n",
      "df1 shape\n",
      "\n",
      "df1 has 152 rows and 8 columns\n",
      "\n",
      "\n",
      "df2 has 924 rows and 20 columns\n"
     ]
    }
   ],
   "source": [
    "# Print data shape\n",
    "print(\"\\n\\n\\ndf1 shape\\n\")\n",
    "print(\"df1 has {} rows and {} columns\".format(df1.shape[0], df1.shape[1]))\n",
    "print(\"\\n\")\n",
    "print(\"df2 has {} rows and {} columns\".format(df2.shape[0], df2.shape[1]))"
   ]
  },
  {
   "cell_type": "code",
   "execution_count": 8,
   "metadata": {},
   "outputs": [],
   "source": [
    "df1 = df1.dropna(subset = ['Wasting', 'Overweight', 'Stunting', 'Underweight'])\n",
    "df2 = df2.dropna(subset = ['Stunting', 'Underweight', 'Survey Sample (N)', 'Notes'])\n",
    "\n",
    "imputer = SimpleImputer(missing_values = np.nan, strategy = 'median')\n",
    "df1[['Severe Wasting']] = imputer.fit_transform(df1[['Severe Wasting']])\n",
    "df2[['Severe Wasting', 'Wasting', 'Overweight']] = imputer.fit_transform(df2[['Severe Wasting', 'Wasting', 'Overweight']])"
   ]
  },
  {
   "cell_type": "code",
   "execution_count": 9,
   "metadata": {},
   "outputs": [
    {
     "name": "stdout",
     "output_type": "stream",
     "text": [
      "Country                  0\n",
      "Income Classification    0\n",
      "Severe Wasting           0\n",
      "Wasting                  0\n",
      "Overweight               0\n",
      "Stunting                 0\n",
      "Underweight              0\n",
      "U5 Population ('000s)    0\n",
      "dtype: int64\n",
      "Unnamed: 0               0\n",
      "ISO code                 0\n",
      "Country                  0\n",
      "Survey Year              0\n",
      "Year                     0\n",
      "Income Classification    0\n",
      "LDC                      0\n",
      "LIFD                     0\n",
      "LLDC or SID2             0\n",
      "Survey Sample (N)        0\n",
      "Severe Wasting           0\n",
      "Wasting                  0\n",
      "Overweight               0\n",
      "Stunting                 0\n",
      "Underweight              0\n",
      "Notes                    0\n",
      "Report Author            0\n",
      "Source                   0\n",
      "Short Source             0\n",
      "U5 Population ('000s)    0\n",
      "dtype: int64\n"
     ]
    }
   ],
   "source": [
    "# Check for NaN\n",
    "print(df1.isnull().sum())\n",
    "print(df2.isnull().sum())"
   ]
  }
 ],
 "metadata": {
  "kernelspec": {
   "display_name": "Python 3",
   "language": "python",
   "name": "python3"
  },
  "language_info": {
   "codemirror_mode": {
    "name": "ipython",
    "version": 3
   },
   "file_extension": ".py",
   "mimetype": "text/x-python",
   "name": "python",
   "nbconvert_exporter": "python",
   "pygments_lexer": "ipython3",
   "version": "3.7.4"
  }
 },
 "nbformat": 4,
 "nbformat_minor": 2
}
